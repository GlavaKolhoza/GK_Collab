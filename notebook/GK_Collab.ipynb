{
  "nbformat": 4,
  "nbformat_minor": 0,
  "metadata": {
    "colab": {
      "provenance": [],
      "gpuType": "T4",
      "include_colab_link": true
    },
    "kernelspec": {
      "name": "python3",
      "display_name": "Python 3"
    },
    "language_info": {
      "name": "python"
    },
    "accelerator": "GPU",
    "widgets": {
      "application/vnd.jupyter.widget-state+json": {
        "95eb0a50cb714a24bc0f58b9ab0dc3db": {
          "model_module": "@jupyter-widgets/output",
          "model_name": "OutputModel",
          "model_module_version": "1.0.0",
          "state": {
            "_dom_classes": [],
            "_model_module": "@jupyter-widgets/output",
            "_model_module_version": "1.0.0",
            "_model_name": "OutputModel",
            "_view_count": null,
            "_view_module": "@jupyter-widgets/output",
            "_view_module_version": "1.0.0",
            "_view_name": "OutputView",
            "layout": "IPY_MODEL_7df50a32e5bb441b9813175872afa731",
            "msg_id": "",
            "outputs": [
              {
                "output_type": "display_data",
                "data": {
                  "text/plain": "<IPython.core.display.HTML object>",
                  "text/html": "<span style='color:red;'><b>【</span> <span style='color:d;'>Installing A1111</span> <span style='color:red;'>】</span> <span></b></span>"
                },
                "metadata": {}
              },
              {
                "output_type": "stream",
                "name": "stdout",
                "text": [
                  "  A1111 ▶ https://github.com/AUTOMATIC1111/stable-diffusion-webui\n"
                ]
              },
              {
                "output_type": "stream",
                "name": "stdout",
                "text": [
                  "\n",
                  "  pull : a1111 \n",
                  "  from : https://github.com/gutris1/segsmaker \n",
                  "  into : /content/A1111\n",
                  "\n"
                ]
              },
              {
                "output_type": "stream",
                "name": "stdout",
                "text": [
                  "\u001b[?25l   \u001b[90m━━━━━━━━━━━━━━━━━━━━━━━━━━━━━━━━━━━━━━━━\u001b[0m \u001b[32m0.0/26.6 MB\u001b[0m \u001b[31m?\u001b[0m eta \u001b[36m-:--:--\u001b[0m"
                ]
              },
              {
                "output_type": "stream",
                "name": "stdout",
                "text": [
                  "\r\u001b[2K   \u001b[91m━━━━━━━━━━━━━━━━━━━━━━━━━━━━━━━━━━━━━━━\u001b[0m\u001b[91m╸\u001b[0m \u001b[32m26.5/26.6 MB\u001b[0m \u001b[31m191.8 MB/s\u001b[0m eta \u001b[36m0:00:01\u001b[0m"
                ]
              },
              {
                "output_type": "stream",
                "name": "stdout",
                "text": [
                  "\r\u001b[2K   \u001b[91m━━━━━━━━━━━━━━━━━━━━━━━━━━━━━━━━━━━━━━━\u001b[0m\u001b[91m╸\u001b[0m \u001b[32m26.5/26.6 MB\u001b[0m \u001b[31m191.8 MB/s\u001b[0m eta \u001b[36m0:00:01\u001b[0m\r\u001b[2K   \u001b[91m━━━━━━━━━━━━━━━━━━━━━━━━━━━━━━━━━━━━━━━\u001b[0m\u001b[91m╸\u001b[0m \u001b[32m26.5/26.6 MB\u001b[0m \u001b[31m191.8 MB/s\u001b[0m eta \u001b[36m0:00:01\u001b[0m\r\u001b[2K   \u001b[90m━━━━━━━━━━━━━━━━━━━━━━━━━━━━━━━━━━━━━━━━\u001b[0m \u001b[32m26.6/26.6 MB\u001b[0m \u001b[31m45.0 MB/s\u001b[0m eta \u001b[36m0:00:00\u001b[0m\n",
                  "\u001b[?25h"
                ]
              },
              {
                "output_type": "stream",
                "name": "stdout",
                "text": [
                  "  5ce82e|\u001b[38;5;35mOK\u001b[0m  |   2.9MiB/s|\u001b[38;5;208m/\u001b[0mcontent\u001b[38;5;208m/\u001b[0mA1111\u001b[38;5;208m/\u001b[0masd\u001b[38;5;208m/\u001b[0mcontrolnet.py\n"
                ]
              },
              {
                "output_type": "stream",
                "name": "stdout",
                "text": [
                  "  6b408a|\u001b[38;5;35mOK\u001b[0m  |   763KiB/s|\u001b[38;5;208m/\u001b[0mcontent\u001b[38;5;208m/\u001b[0mA1111\u001b[38;5;208m/\u001b[0msegsmaker.py\n"
                ]
              },
              {
                "output_type": "stream",
                "name": "stdout",
                "text": [
                  "\r                                                                                                                                                                                                                                                                                                            \r \u001b[35m【\u001b[0m\u001b[36m#\u001b[0m\u001b[38;5;35m73b472\u001b[0m 61\u001b[38;5;135mMiB\u001b[0m\u001b[35m/\u001b[0m63\u001b[38;5;135mMiB\u001b[0m\u001b[35m(\u001b[0m96%\u001b[35m)\u001b[0m \u001b[36mCN\u001b[0m:\u001b[38;5;208m2\u001b[0m \u001b[36mDL\u001b[0m:86\u001b[38;5;135mMiB\u001b[0m\u001b[35m】\u001b[0m"
                ]
              },
              {
                "output_type": "stream",
                "name": "stdout",
                "text": [
                  "\n",
                  "  73b472|\u001b[38;5;35mOK\u001b[0m  |    81MiB/s|\u001b[38;5;208m/\u001b[0mcontent\u001b[38;5;208m/\u001b[0mA1111\u001b[38;5;208m/\u001b[0mmodels\u001b[38;5;208m/\u001b[0mESRGAN\u001b[38;5;208m/\u001b[0m4x-UltraSharp.pth\n"
                ]
              },
              {
                "output_type": "stream",
                "name": "stdout",
                "text": [
                  "  93a8f8|\u001b[38;5;35mOK\u001b[0m  |    87MiB/s|\u001b[38;5;208m/\u001b[0mcontent\u001b[38;5;208m/\u001b[0mA1111\u001b[38;5;208m/\u001b[0mmodels\u001b[38;5;208m/\u001b[0mESRGAN\u001b[38;5;208m/\u001b[0m4x-AnimeSharp.pth\n"
                ]
              },
              {
                "output_type": "stream",
                "name": "stdout",
                "text": [
                  "\r                                                                                                                                                                                                                                                                                                            \r \u001b[35m【\u001b[0m\u001b[36m#\u001b[0m\u001b[38;5;35med1841\u001b[0m 62\u001b[38;5;135mMiB\u001b[0m\u001b[35m/\u001b[0m63\u001b[38;5;135mMiB\u001b[0m\u001b[35m(\u001b[0m98%\u001b[35m)\u001b[0m \u001b[36mCN\u001b[0m:\u001b[38;5;208m1\u001b[0m \u001b[36mDL\u001b[0m:62\u001b[38;5;135mMiB\u001b[0m\u001b[35m】\u001b[0m"
                ]
              },
              {
                "output_type": "stream",
                "name": "stdout",
                "text": [
                  "\n",
                  "  ed1841|\u001b[38;5;35mOK\u001b[0m  |    62MiB/s|\u001b[38;5;208m/\u001b[0mcontent\u001b[38;5;208m/\u001b[0mA1111\u001b[38;5;208m/\u001b[0mmodels\u001b[38;5;208m/\u001b[0mESRGAN\u001b[38;5;208m/\u001b[0m4x_NMKD-Superscale-SP_178000_G.pth\n"
                ]
              },
              {
                "output_type": "stream",
                "name": "stdout",
                "text": [
                  "  07187c|\u001b[38;5;35mOK\u001b[0m  |   143MiB/s|\u001b[38;5;208m/\u001b[0mcontent\u001b[38;5;208m/\u001b[0mA1111\u001b[38;5;208m/\u001b[0mmodels\u001b[38;5;208m/\u001b[0mESRGAN\u001b[38;5;208m/\u001b[0m8x_NMKD-Superscale_150000_G.pth\n"
                ]
              },
              {
                "output_type": "stream",
                "name": "stdout",
                "text": [
                  "\r                                                                                                                                                                                                                                                                                                            \r \u001b[35m【\u001b[0m\u001b[36m#\u001b[0m\u001b[38;5;35md171ac\u001b[0m 80\u001b[38;5;135mMiB\u001b[0m\u001b[35m/\u001b[0m127\u001b[38;5;135mMiB\u001b[0m\u001b[35m(\u001b[0m62%\u001b[35m)\u001b[0m \u001b[36mCN\u001b[0m:\u001b[38;5;208m16\u001b[0m \u001b[36mDL\u001b[0m:193\u001b[38;5;135mMiB\u001b[0m\u001b[35m】\u001b[0m"
                ]
              },
              {
                "output_type": "stream",
                "name": "stdout",
                "text": [
                  "\n",
                  "  d171ac|\u001b[38;5;35mOK\u001b[0m  |   170MiB/s|\u001b[38;5;208m/\u001b[0mcontent\u001b[38;5;208m/\u001b[0mA1111\u001b[38;5;208m/\u001b[0mmodels\u001b[38;5;208m/\u001b[0mESRGAN\u001b[38;5;208m/\u001b[0m4x_RealisticRescaler_100000_G.pth\n"
                ]
              },
              {
                "output_type": "stream",
                "name": "stdout",
                "text": [
                  "  4fa8dc|\u001b[38;5;35mOK\u001b[0m  |   167MiB/s|\u001b[38;5;208m/\u001b[0mcontent\u001b[38;5;208m/\u001b[0mA1111\u001b[38;5;208m/\u001b[0mmodels\u001b[38;5;208m/\u001b[0mESRGAN\u001b[38;5;208m/\u001b[0m8x_RealESRGAN.pth\n"
                ]
              },
              {
                "output_type": "stream",
                "name": "stdout",
                "text": [
                  "\r                                                                                                                                                                                                                                                                                                            \r \u001b[35m【\u001b[0m\u001b[36m#\u001b[0m\u001b[38;5;35m6dd414\u001b[0m 62\u001b[38;5;135mMiB\u001b[0m\u001b[35m/\u001b[0m63\u001b[38;5;135mMiB\u001b[0m\u001b[35m(\u001b[0m98%\u001b[35m)\u001b[0m \u001b[36mCN\u001b[0m:\u001b[38;5;208m2\u001b[0m \u001b[36mDL\u001b[0m:74\u001b[38;5;135mMiB\u001b[0m\u001b[35m】\u001b[0m"
                ]
              },
              {
                "output_type": "stream",
                "name": "stdout",
                "text": [
                  "\n",
                  "  6dd414|\u001b[38;5;35mOK\u001b[0m  |    73MiB/s|\u001b[38;5;208m/\u001b[0mcontent\u001b[38;5;208m/\u001b[0mA1111\u001b[38;5;208m/\u001b[0mmodels\u001b[38;5;208m/\u001b[0mESRGAN\u001b[38;5;208m/\u001b[0m4x_foolhardy_Remacri.pth\n"
                ]
              },
              {
                "output_type": "stream",
                "name": "stdout",
                "text": [
                  "\r                                                                                                                                                                                                                                                                                                            \r \u001b[35m【\u001b[0m\u001b[36m#\u001b[0m\u001b[38;5;35m904e7b\u001b[0m 62\u001b[38;5;135mMiB\u001b[0m\u001b[35m/\u001b[0m63\u001b[38;5;135mMiB\u001b[0m\u001b[35m(\u001b[0m98%\u001b[35m)\u001b[0m \u001b[36mCN\u001b[0m:\u001b[38;5;208m1\u001b[0m \u001b[36mDL\u001b[0m:45\u001b[38;5;135mMiB\u001b[0m\u001b[35m】\u001b[0m"
                ]
              },
              {
                "output_type": "stream",
                "name": "stdout",
                "text": [
                  "\n",
                  "  904e7b|\u001b[38;5;35mOK\u001b[0m  |    46MiB/s|\u001b[38;5;208m/\u001b[0mcontent\u001b[38;5;208m/\u001b[0mA1111\u001b[38;5;208m/\u001b[0mmodels\u001b[38;5;208m/\u001b[0mESRGAN\u001b[38;5;208m/\u001b[0m4x_NMKD-YandereNeoXL_200k.pth\n"
                ]
              },
              {
                "output_type": "stream",
                "name": "stdout",
                "text": [
                  "\r                                                                                                                                                                                                                                                                                                            \r \u001b[35m【\u001b[0m\u001b[36m#\u001b[0m\u001b[38;5;35me99b56\u001b[0m 63\u001b[38;5;135mMiB\u001b[0m\u001b[35m/\u001b[0m63\u001b[38;5;135mMiB\u001b[0m\u001b[35m(\u001b[0m99%\u001b[35m)\u001b[0m \u001b[36mCN\u001b[0m:\u001b[38;5;208m1\u001b[0m \u001b[36mDL\u001b[0m:93\u001b[38;5;135mMiB\u001b[0m\u001b[35m】\u001b[0m"
                ]
              },
              {
                "output_type": "stream",
                "name": "stdout",
                "text": [
                  "\n",
                  "  e99b56|\u001b[38;5;35mOK\u001b[0m  |    93MiB/s|\u001b[38;5;208m/\u001b[0mcontent\u001b[38;5;208m/\u001b[0mA1111\u001b[38;5;208m/\u001b[0mmodels\u001b[38;5;208m/\u001b[0mESRGAN\u001b[38;5;208m/\u001b[0m4x_NMKD-UltraYandere_300k.pth\n"
                ]
              },
              {
                "output_type": "stream",
                "name": "stdout",
                "text": [
                  "  b39029|\u001b[38;5;35mOK\u001b[0m  |   7.7MiB/s|\u001b[38;5;208m/\u001b[0mcontent\u001b[38;5;208m/\u001b[0mA1111\u001b[38;5;208m/\u001b[0mhtml\u001b[38;5;208m/\u001b[0mcard-no-preview.png\n"
                ]
              },
              {
                "output_type": "stream",
                "name": "stdout",
                "text": [
                  "\r                                                                                                                                                                                                                                                                                                            \r \u001b[35m【\u001b[0m\u001b[36m#\u001b[0m\u001b[38;5;35md09dc1\u001b[0m 0\u001b[38;5;135mB\u001b[0m\u001b[35m/\u001b[0m0\u001b[38;5;135mB\u001b[0m \u001b[36mCN\u001b[0m:\u001b[38;5;208m1\u001b[0m \u001b[36mDL\u001b[0m:0\u001b[38;5;135mB\u001b[0m\u001b[35m】\u001b[0m"
                ]
              },
              {
                "output_type": "stream",
                "name": "stdout",
                "text": [
                  "\n",
                  "  d09dc1|\u001b[38;5;35mOK\u001b[0m  |    69MiB/s|\u001b[38;5;208m/\u001b[0mcontent\u001b[38;5;208m/\u001b[0mA1111\u001b[38;5;208m/\u001b[0membeddings.zip\n"
                ]
              },
              {
                "output_type": "stream",
                "name": "stdout",
                "text": [
                  "\r                                                                                                                                                                                                                                                                                                            \r \u001b[35m【\u001b[0m\u001b[36m#\u001b[0m\u001b[38;5;35ma12218\u001b[0m 0\u001b[38;5;135mB\u001b[0m\u001b[35m/\u001b[0m0\u001b[38;5;135mB\u001b[0m \u001b[36mCN\u001b[0m:\u001b[38;5;208m1\u001b[0m \u001b[36mDL\u001b[0m:0\u001b[38;5;135mB\u001b[0m\u001b[35m】\u001b[0m"
                ]
              },
              {
                "output_type": "stream",
                "name": "stdout",
                "text": [
                  "\r                                                                                                                                                                                                                                                                                                            \r \u001b[35m【\u001b[0m\u001b[36m#\u001b[0m\u001b[38;5;35ma12218\u001b[0m 238\u001b[38;5;135mMiB\u001b[0m\u001b[35m/\u001b[0m319\u001b[38;5;135mMiB\u001b[0m\u001b[35m(\u001b[0m74%\u001b[35m)\u001b[0m \u001b[36mCN\u001b[0m:\u001b[38;5;208m16\u001b[0m \u001b[36mDL\u001b[0m:250\u001b[38;5;135mMiB\u001b[0m\u001b[35m】\u001b[0m"
                ]
              },
              {
                "output_type": "stream",
                "name": "stdout",
                "text": [
                  "\n",
                  "  a12218|\u001b[38;5;35mOK\u001b[0m  |   245MiB/s|\u001b[38;5;208m/\u001b[0mcontent\u001b[38;5;208m/\u001b[0mA1111\u001b[38;5;208m/\u001b[0mmodels\u001b[38;5;208m/\u001b[0mVAE\u001b[38;5;208m/\u001b[0mvae-ft-mse-840000-ema-pruned.safetensors\n"
                ]
              },
              {
                "output_type": "stream",
                "name": "stdout",
                "text": [
                  "  f095e3|\u001b[38;5;35mOK\u001b[0m  |   7.1MiB/s|\u001b[38;5;208m/\u001b[0mcontent\u001b[38;5;208m/\u001b[0mA1111\u001b[38;5;208m/\u001b[0membeddingsXL.zip\n"
                ]
              },
              {
                "output_type": "stream",
                "name": "stdout",
                "text": [
                  "\r                                                                                                                                                                                                                                                                                                            \r \u001b[35m【\u001b[0m\u001b[36m#\u001b[0m\u001b[38;5;35mb37af7\u001b[0m 207\u001b[38;5;135mMiB\u001b[0m\u001b[35m/\u001b[0m319\u001b[38;5;135mMiB\u001b[0m\u001b[35m(\u001b[0m64%\u001b[35m)\u001b[0m \u001b[36mCN\u001b[0m:\u001b[38;5;208m16\u001b[0m \u001b[36mDL\u001b[0m:247\u001b[38;5;135mMiB\u001b[0m\u001b[35m】\u001b[0m"
                ]
              },
              {
                "output_type": "stream",
                "name": "stdout",
                "text": [
                  "\n",
                  "  b37af7|\u001b[38;5;35mOK\u001b[0m  |   249MiB/s|\u001b[38;5;208m/\u001b[0mcontent\u001b[38;5;208m/\u001b[0mA1111\u001b[38;5;208m/\u001b[0mmodels\u001b[38;5;208m/\u001b[0mVAE\u001b[38;5;208m/\u001b[0msdxl_vae.safetensors\n"
                ]
              },
              {
                "output_type": "display_data",
                "data": {
                  "text/plain": "<IPython.core.display.HTML object>",
                  "text/html": "<span style='color:red;'><br><b>【</span> <span style='color:d;'>Installing Extensions</span> <span style='color:red;'>】</span> <span></b></span>"
                },
                "metadata": {}
              },
              {
                "output_type": "stream",
                "name": "stdout",
                "text": [
                  "  1-sd-dynamic-thresholding ▶ https://github.com/mcmonkeyprojects/sd-dynamic-thresholding\n"
                ]
              },
              {
                "output_type": "stream",
                "name": "stdout",
                "text": [
                  "  3-bmab ▶ https://github.com/gutris1/sd-webui-bmab\n"
                ]
              },
              {
                "output_type": "stream",
                "name": "stdout",
                "text": [
                  "  4-adetailer ▶ https://github.com/Bing-su/adetailer\n"
                ]
              },
              {
                "output_type": "stream",
                "name": "stdout",
                "text": [
                  "  sd-webui-supermerger ▶ https://github.com/hako-mikan/sd-webui-supermerger\n"
                ]
              },
              {
                "output_type": "stream",
                "name": "stdout",
                "text": [
                  "  sd-webui-infinite-image-browsing ▶ https://github.com/zanllp/sd-webui-infinite-image-browsing\n"
                ]
              },
              {
                "output_type": "stream",
                "name": "stdout",
                "text": [
                  "  a1111-sd-webui-tagcomplete ▶ https://github.com/DominikDoom/a1111-sd-webui-tagcomplete\n"
                ]
              },
              {
                "output_type": "stream",
                "name": "stdout",
                "text": [
                  "  ultimate-upscale-for-automatic1111 ▶ https://github.com/Coyote-A/ultimate-upscale-for-automatic1111\n"
                ]
              },
              {
                "output_type": "stream",
                "name": "stdout",
                "text": [
                  "  sd-webui-controlnet ▶ https://github.com/Mikubill/sd-webui-controlnet\n"
                ]
              },
              {
                "output_type": "stream",
                "name": "stdout",
                "text": [
                  "  DWPose ▶ https://github.com/IDEA-Research/DWPose\n"
                ]
              },
              {
                "output_type": "stream",
                "name": "stdout",
                "text": [
                  "  sd-hub ▶ https://github.com/gutris1/sd-hub\n"
                ]
              },
              {
                "output_type": "stream",
                "name": "stdout",
                "text": [
                  "  sd-image-info ▶ https://github.com/gutris1/sd-image-info\n"
                ]
              },
              {
                "output_type": "stream",
                "name": "stdout",
                "text": [
                  "  sd-image-viewer ▶ https://github.com/gutris1/sd-image-viewer\n"
                ]
              },
              {
                "output_type": "stream",
                "name": "stdout",
                "text": [
                  "  Scroll-Bar ▶ https://github.com/gutris1/Scroll-Bar\n"
                ]
              },
              {
                "output_type": "stream",
                "name": "stdout",
                "text": [
                  "  timer_timer ▶ https://github.com/gutris1/timer_timer\n"
                ]
              },
              {
                "output_type": "stream",
                "name": "stdout",
                "text": [
                  "  sd-simple-dimension-preset ▶ https://github.com/gutris1/sd-simple-dimension-preset\n"
                ]
              },
              {
                "output_type": "stream",
                "name": "stdout",
                "text": [
                  "  sd-civitai-browser-plus ▶ https://github.com/BlafKing/sd-civitai-browser-plus\n"
                ]
              }
            ]
          }
        },
        "7df50a32e5bb441b9813175872afa731": {
          "model_module": "@jupyter-widgets/base",
          "model_name": "LayoutModel",
          "model_module_version": "1.2.0",
          "state": {
            "_model_module": "@jupyter-widgets/base",
            "_model_module_version": "1.2.0",
            "_model_name": "LayoutModel",
            "_view_count": null,
            "_view_module": "@jupyter-widgets/base",
            "_view_module_version": "1.2.0",
            "_view_name": "LayoutView",
            "align_content": null,
            "align_items": null,
            "align_self": null,
            "border": null,
            "bottom": null,
            "display": null,
            "flex": null,
            "flex_flow": null,
            "grid_area": null,
            "grid_auto_columns": null,
            "grid_auto_flow": null,
            "grid_auto_rows": null,
            "grid_column": null,
            "grid_gap": null,
            "grid_row": null,
            "grid_template_areas": null,
            "grid_template_columns": null,
            "grid_template_rows": null,
            "height": null,
            "justify_content": null,
            "justify_items": null,
            "left": null,
            "margin": null,
            "max_height": null,
            "max_width": null,
            "min_height": null,
            "min_width": null,
            "object_fit": null,
            "object_position": null,
            "order": null,
            "overflow": null,
            "overflow_x": null,
            "overflow_y": null,
            "padding": null,
            "right": null,
            "top": null,
            "visibility": null,
            "width": null
          }
        },
        "648734e714d14f26882bafc5a83bbd36": {
          "model_module": "@jupyter-widgets/output",
          "model_name": "OutputModel",
          "model_module_version": "1.0.0",
          "state": {
            "_dom_classes": [],
            "_model_module": "@jupyter-widgets/output",
            "_model_module_version": "1.0.0",
            "_model_name": "OutputModel",
            "_view_count": null,
            "_view_module": "@jupyter-widgets/output",
            "_view_module_version": "1.0.0",
            "_view_name": "OutputView",
            "layout": "IPY_MODEL_6a5d600757774c289f41d8c96398bc28",
            "msg_id": "",
            "outputs": [
              {
                "output_type": "display_data",
                "data": {
                  "text/plain": "<IPython.core.display.HTML object>",
                  "text/html": "<span style='color:red;'><br><b>【</span> <span style='color:d;'>Done</span> <span style='color:red;'>】</span> <span></b></span>"
                },
                "metadata": {}
              }
            ]
          }
        },
        "6a5d600757774c289f41d8c96398bc28": {
          "model_module": "@jupyter-widgets/base",
          "model_name": "LayoutModel",
          "model_module_version": "1.2.0",
          "state": {
            "_model_module": "@jupyter-widgets/base",
            "_model_module_version": "1.2.0",
            "_model_name": "LayoutModel",
            "_view_count": null,
            "_view_module": "@jupyter-widgets/base",
            "_view_module_version": "1.2.0",
            "_view_name": "LayoutView",
            "align_content": null,
            "align_items": null,
            "align_self": null,
            "border": null,
            "bottom": null,
            "display": null,
            "flex": null,
            "flex_flow": null,
            "grid_area": null,
            "grid_auto_columns": null,
            "grid_auto_flow": null,
            "grid_auto_rows": null,
            "grid_column": null,
            "grid_gap": null,
            "grid_row": null,
            "grid_template_areas": null,
            "grid_template_columns": null,
            "grid_template_rows": null,
            "height": null,
            "justify_content": null,
            "justify_items": null,
            "left": null,
            "margin": null,
            "max_height": null,
            "max_width": null,
            "min_height": null,
            "min_width": null,
            "object_fit": null,
            "object_position": null,
            "order": null,
            "overflow": null,
            "overflow_x": null,
            "overflow_y": null,
            "padding": null,
            "right": null,
            "top": null,
            "visibility": null,
            "width": null
          }
        }
      }
    }
  },
  "cells": [
    {
      "cell_type": "markdown",
      "metadata": {
        "id": "view-in-github",
        "colab_type": "text"
      },
      "source": [
        "<a href=\"https://colab.research.google.com/github/GlavaKolhoza/GK_Collab/blob/main/notebook/GK_Collab.ipynb\" target=\"_parent\"><img src=\"https://colab.research.google.com/assets/colab-badge.svg\" alt=\"Open In Colab\"/></a>"
      ]
    },
    {
      "cell_type": "markdown",
      "source": [
        "<a href=\"https://github.com/gutris1/segsmaker\">\n",
        "  <img alt=\"GitHub repo\" src=\"https://img.shields.io/badge/GitHub-6e5494?style=for-the-badge&logo=github&logoColor=white\"/>\n",
        "</a>"
      ],
      "metadata": {
        "id": "COlOWoTOMKSP"
      }
    },
    {
      "cell_type": "code",
      "execution_count": 1,
      "metadata": {
        "id": "tQqllRM-MCnT",
        "outputId": "d10a4a1c-f2a2-4d0c-b654-a86b7238c287",
        "colab": {
          "base_uri": "https://localhost:8080/",
          "height": 1000,
          "referenced_widgets": [
            "95eb0a50cb714a24bc0f58b9ab0dc3db",
            "7df50a32e5bb441b9813175872afa731",
            "648734e714d14f26882bafc5a83bbd36",
            "6a5d600757774c289f41d8c96398bc28"
          ]
        }
      },
      "outputs": [
        {
          "output_type": "display_data",
          "data": {
            "text/plain": [
              "Output()"
            ],
            "application/vnd.jupyter.widget-view+json": {
              "version_major": 2,
              "version_minor": 0,
              "model_id": "95eb0a50cb714a24bc0f58b9ab0dc3db"
            }
          },
          "metadata": {}
        },
        {
          "output_type": "display_data",
          "data": {
            "text/plain": [
              "Output()"
            ],
            "application/vnd.jupyter.widget-view+json": {
              "version_major": 2,
              "version_minor": 0,
              "model_id": "648734e714d14f26882bafc5a83bbd36"
            }
          },
          "metadata": {}
        }
      ],
      "source": [
        "# @title <b><font color='orange'>WebUI Installer</font></b> {\"display-mode\":\"form\"}\n",
        "\n",
        "Webui = 'A1111' # @param [\"A1111\", \"Forge\", \"ComfyUI\", \"ReForge\", \"SwarmUI\"]\n",
        "Civitai___Key = '451bef3b856f1745fc9b7caea6d32cb6' # @param { \"type\": \"string\", \"placeholder\": \"Your Civitai API key (required)\" }\n",
        "HF_Read_Token = '' # @param {type:\"string\", placeholder:\"Your Huggingface READ token (optional)\"}\n",
        "Mount_GDrive = 'No' # @param [\"Yes\", \"No\"]\n",
        "BGM = '' # @param {type:\"string\", placeholder:\"youtube video id, default to dQw4w9WgXcQ\"}\n",
        "\n",
        "!curl -sLo /content/setup.py https://github.com/gutris1/segsmaker/raw/main/script/KC/setup.py\n",
        "\n",
        "if Mount_GDrive == 'Yes':\n",
        "    from google.colab import drive\n",
        "    drive.mount('/content/drive')\n",
        "\n",
        "%run /content/setup.py --webui=\"$Webui\" --civitai_key=\"$Civitai___Key\" --hf_read_token=\"$HF_Read_Token\" --bgm=\"$BGM\"\n",
        "\n",
        "from pathlib import Path\n",
        "\n",
        "if Mount_GDrive == 'Yes':\n",
        "    d = Path('/content/drive/MyDrive/Segsmaker')\n",
        "\n",
        "    for n, p in {'checkpoint': CKPT, 'lora': LORA, 'vae': VAE, 'embeddings': Embeddings}.items(): # type: ignore\n",
        "        f = d / n\n",
        "        f.mkdir(parents=True, exist_ok=True)\n",
        "        s = p / f'drive-{n}'\n",
        "        s.symlink_to(f, target_is_directory=True)\n",
        "\n",
        "    !rm -rf $WebUI_Output\n",
        "    o = d / {'ComfyUI': 'comfyui-output', 'SwarmUI': 'swarmui-output'}.get(Webui, 'output')\n",
        "    o.mkdir(parents=True, exist_ok=True)\n",
        "    WebUI_Output.symlink_to(o, target_is_directory=True)"
      ]
    },
    {
      "cell_type": "code",
      "source": [
        "''' These are placeholders for commands with empty inputs. '''\n",
        "''' Replace them with actual values or skip/delete this cell. '''\n",
        "\n",
        "\n",
        "''' SD Extensions / ComfyUI Custom Nodes '''\n",
        "%cd -q $Extensions\n",
        "!git clone\n",
        "\n",
        "''' VAE '''\n",
        "%cd -q $VAE\n",
        "%download\n",
        "\n",
        "''' Embeddings '''\n",
        "%cd -q $Embeddings\n",
        "%download\n",
        "\n",
        "''' Upscalers '''\n",
        "%cd -q $Upscalers\n",
        "%download\n",
        "\n",
        "''' FLUX Unet '''\n",
        "%cd -q $UNET\n",
        "%download\n",
        "\n",
        "''' FLUX Clip '''\n",
        "%cd -q $CLIP\n",
        "%download"
      ],
      "metadata": {
        "id": "9TeZZ9WrOsxS"
      },
      "execution_count": null,
      "outputs": []
    },
    {
      "cell_type": "code",
      "source": [
        "''' Checkpoint '''\n",
        "%cd -q $CKPT\n",
        "%download https://civitai.com/api/download/models/1480273?type=Model&format=SafeTensor&size=full&fp=fp16\n",
        "\n",
        "''' LoRA '''\n",
        "%cd -q $LORA\n",
        "%download https://civitai.com/api/download/models/1759574?type=Model&format=SafeTensor"
      ],
      "metadata": {
        "id": "CuR9tiSnPRBM",
        "outputId": "22ec8c0f-3aa2-4ae3-cfd7-408376292f86",
        "colab": {
          "base_uri": "https://localhost:8080/"
        }
      },
      "execution_count": 2,
      "outputs": [
        {
          "output_type": "stream",
          "name": "stdout",
          "text": [
            " \u001b[35m【\u001b[0m\u001b[36m#\u001b[0m\u001b[38;5;35mbd9b7a\u001b[0m 6.6\u001b[38;5;135mGiB\u001b[0m\u001b[35m/\u001b[0m6.6\u001b[38;5;135mGiB\u001b[0m\u001b[35m(\u001b[0m99%\u001b[35m)\u001b[0m \u001b[36mCN\u001b[0m:\u001b[38;5;208m1\u001b[0m \u001b[36mDL\u001b[0m:117\u001b[38;5;135mMiB\u001b[0m\u001b[35m】\u001b[0m\n",
            "  bd9b7a|\u001b[38;5;35mOK\u001b[0m  |   142MiB/s|\u001b[38;5;208m/\u001b[0mcontent\u001b[38;5;208m/\u001b[0mA1111\u001b[38;5;208m/\u001b[0mmodels\u001b[38;5;208m/\u001b[0mStable-diffusion\u001b[38;5;208m/\u001b[0mmyshkinmix_v00.safetensors\n",
            " \u001b[35m【\u001b[0m\u001b[36m#\u001b[0m\u001b[38;5;35mba98bb\u001b[0m 23\u001b[38;5;135mMiB\u001b[0m\u001b[35m/\u001b[0m28\u001b[38;5;135mMiB\u001b[0m\u001b[35m(\u001b[0m82%\u001b[35m)\u001b[0m \u001b[36mCN\u001b[0m:\u001b[38;5;208m5\u001b[0m \u001b[36mDL\u001b[0m:29\u001b[38;5;135mMiB\u001b[0m\u001b[35m】\u001b[0m\n",
            "  ba98bb|\u001b[38;5;35mOK\u001b[0m  |    19MiB/s|\u001b[38;5;208m/\u001b[0mcontent\u001b[38;5;208m/\u001b[0mA1111\u001b[38;5;208m/\u001b[0mmodels\u001b[38;5;208m/\u001b[0mLora\u001b[38;5;208m/\u001b[0mMCNsOmukosaikou05.safetensors\n"
          ]
        }
      ]
    },
    {
      "cell_type": "code",
      "source": [
        "''' Controlnet '''\n",
        "%run $Controlnet_Widget"
      ],
      "metadata": {
        "id": "wO4OTCOWALEc"
      },
      "execution_count": null,
      "outputs": []
    },
    {
      "cell_type": "markdown",
      "source": [
        "## Launcher\n",
        "args list :\n",
        "-  **A1111** = `--xformers`\n",
        "- **Forge** = `--disable-xformers --opt-sdp-attention --cuda-stream --pin-shared-memory`\n",
        "- **ComfyUI** = `--dont-print-server --preview-method auto --use-pytorch-cross-attention`\n",
        "- **ReForge** = `--xformers --cuda-stream --pin-shared-memory`\n",
        "- **SwarmUI** = `--launch_mode none`\n",
        "<br><br>\n",
        "\n",
        "For ComfyUI, add `--skip-comfyui-check` to skip checking the main requirements and custom node dependencies\n",
        "\n",
        "Add **--N=ngrok_token** to start NGROK tunnel<br>\n",
        "Add **--Z=zrok_token** to start ZROK tunnel"
      ],
      "metadata": {
        "id": "BB8pCZnrQnR9"
      }
    },
    {
      "cell_type": "code",
      "source": [
        "%cd -q $WebUI\n",
        "%run segsmaker.py --xformers"
      ],
      "metadata": {
        "id": "ps7AEUdGX2iE",
        "outputId": "e912aaa5-8dc3-4e1f-cacf-cad25f04dce2",
        "colab": {
          "base_uri": "https://localhost:8080/"
        }
      },
      "execution_count": null,
      "outputs": [
        {
          "output_type": "stream",
          "name": "stdout",
          "text": [
            "Python 3.10.15 (main, Oct 16 2024, 04:37:23) [Clang 18.1.8 ]\n",
            "Version: v1.10.1\n",
            "Commit hash: 82a973c04367123ae98bd9abdf80d9eda9b910e2\n",
            "Installing None\n",
            "Launching Web UI with arguments: --xformers --enable-insecure-extension-access --disable-console-progressbars --theme dark --share\n",
            "\u001b[1m[\u001b[0m-\u001b[1m]\u001b[0m ADetailer initialized. version: \u001b[1;36m25.3\u001b[0m.\u001b[1;36m0\u001b[0m, num models: \u001b[1;36m10\u001b[0m\n",
            "Tag Autocomplete: Could not locate model-keyword extension, Lora trigger word completion will be limited to those added through the extra networks menu.\n",
            "\u001b[96mCivitAI Browser+\u001b[0m: Aria2 RPC started\n",
            "\u001b[38;5;208m▶\u001b[0m SD-Hub: \u001b[38;5;39mv9.0.0\u001b[0m\n",
            "ControlNet preprocessor location: /content/A1111/extensions/sd-webui-controlnet/annotator/downloads\n",
            "2025-06-07 02:38:45,617 - ControlNet - \u001b[0;32mINFO\u001b[0m - ControlNet v1.1.455\n",
            "Loading weights [c7f9514ade] from /content/A1111/models/Stable-diffusion/myshkinmix_v00.safetensors\n",
            "2025-06-07 02:38:47,531 - ControlNet - \u001b[0;32mINFO\u001b[0m - ControlNet UI callback registered.\n",
            "[ERROR]: Config states /content/A1111/config_states/civitai_subfolders.json, \"created_at\" does not exist\n",
            "Running on local URL:  http://127.0.0.1:7860\n",
            "Creating model from config: /content/A1111/repositories/generative-models/configs/inference/sd_xl_base.yaml\n",
            "Running on public URL: https://3d8f1bebd9c910eed0.gradio.live\n",
            "\n",
            "This share link expires in 72 hours. For free permanent hosting and GPU upgrades, run `gradio deploy` from Terminal to deploy to Spaces (https://huggingface.co/spaces)\n",
            "\u001b[92mIIB Database file has been successfully backed up to the backup folder.\u001b[0m\n",
            "Startup time: 43.4s (prepare environment: 20.9s, import torch: 7.0s, import gradio: 2.4s, setup paths: 1.5s, initialize shared: 0.2s, other imports: 0.6s, load scripts: 4.2s, create ui: 4.7s, gradio launch: 1.1s, app_started_callback: 0.6s).\n",
            "\n",
            "🟢 Pinggy \u001b[38;5;208m:\u001b[0m https://rnlbt-34-125-116-171.a.free.pinggy.link\n",
            "\n",
            "🟢 Cloudflared \u001b[38;5;208m:\u001b[0m http://main-aspect-ou-donors.trycloudflare.com \n",
            "\n",
            "Applying attention optimization: xformers... done.\n",
            "Model loaded in 36.1s (load weights from disk: 5.7s, create model: 1.3s, apply weights to model: 27.5s, apply half(): 0.2s, move model to device: 0.1s, load textual inversion embeddings: 0.5s, calculate empty prompt: 0.7s).\n",
            "Error parsing \"Hires prompt: \"\n",
            "Error parsing \"Hires negative prompt: \"\n",
            "Loading VAE weights specified in settings: /content/A1111/models/VAE/sdxl_vae.safetensors\n",
            "Applying attention optimization: xformers... done.\n",
            "VAE weights loaded.\n",
            "100% 25/25 [00:36<00:00,  1.46s/it]\n",
            "tiled upscale: 100% 42/42 [00:03<00:00, 11.82it/s]\n",
            "100% 25/25 [01:22<00:00,  3.29s/it]\n",
            "\n",
            "0: 640x512 2 faces, 77.6ms\n",
            "Speed: 44.6ms preprocess, 77.6ms inference, 70.5ms postprocess per image at shape (1, 3, 640, 512)\n",
            "100% 11/11 [00:14<00:00,  1.29s/it]\n",
            "100% 11/11 [00:14<00:00,  1.29s/it]\n",
            " 60% 15/25 [00:19<00:13,  1.31s/it]\n",
            "100% 25/25 [00:33<00:00,  1.35s/it]\n",
            "tiled upscale: 100% 42/42 [00:03<00:00, 12.57it/s]\n",
            "100% 25/25 [01:22<00:00,  3.30s/it]\n",
            "\n",
            "0: 640x512 2 faces, 60.1ms\n",
            "Speed: 3.7ms preprocess, 60.1ms inference, 2.4ms postprocess per image at shape (1, 3, 640, 512)\n",
            "100% 11/11 [00:14<00:00,  1.28s/it]\n",
            "100% 11/11 [00:14<00:00,  1.29s/it]\n",
            "100% 25/25 [00:32<00:00,  1.29s/it]\n",
            "tiled upscale: 100% 42/42 [00:03<00:00, 12.45it/s]\n",
            "100% 15/15 [00:47<00:00,  3.18s/it]\n",
            "\n",
            "0: 640x512 1 face, 61.4ms\n",
            "Speed: 4.5ms preprocess, 61.4ms inference, 3.3ms postprocess per image at shape (1, 3, 640, 512)\n",
            "100% 11/11 [00:13<00:00,  1.22s/it]\n",
            " 64% 16/25 [00:19<00:11,  1.24s/it]\n",
            "100% 25/25 [00:31<00:00,  1.28s/it]\n",
            "tiled upscale: 100% 42/42 [00:03<00:00, 12.93it/s]\n",
            "100% 15/15 [00:47<00:00,  3.17s/it]\n",
            "\n",
            "0: 640x512 1 face, 56.6ms\n",
            "Speed: 3.2ms preprocess, 56.6ms inference, 1.9ms postprocess per image at shape (1, 3, 640, 512)\n",
            "100% 11/11 [00:13<00:00,  1.22s/it]\n",
            " 68% 17/25 [00:20<00:09,  1.23s/it]\n",
            "100% 25/25 [00:31<00:00,  1.28s/it]\n",
            "100% 25/25 [00:32<00:00,  1.31s/it]\n",
            "tiled upscale: 100% 42/42 [00:03<00:00, 11.89it/s]\n",
            "100% 15/15 [00:49<00:00,  3.29s/it]\n",
            "\n",
            "0: 640x512 1 face, 58.5ms\n",
            "Speed: 3.4ms preprocess, 58.5ms inference, 2.2ms postprocess per image at shape (1, 3, 640, 512)\n",
            "100% 11/11 [00:14<00:00,  1.27s/it]\n",
            "100% 25/25 [01:03<00:00,  2.56s/it]\n",
            "tiled upscale: 100% 42/42 [00:03<00:00, 13.03it/s]\n",
            "tiled upscale: 100% 42/42 [00:03<00:00, 12.64it/s]\n",
            "100% 15/15 [01:37<00:00,  6.51s/it]\n",
            "\n",
            "0: 640x512 1 face, 64.5ms\n",
            "Speed: 4.5ms preprocess, 64.5ms inference, 1.9ms postprocess per image at shape (1, 3, 640, 512)\n",
            "100% 11/11 [00:14<00:00,  1.30s/it]\n",
            "\n",
            "0: 640x512 1 face, 7.4ms\n",
            "Speed: 2.8ms preprocess, 7.4ms inference, 1.3ms postprocess per image at shape (1, 3, 640, 512)\n",
            "100% 11/11 [00:14<00:00,  1.30s/it]\n",
            " 32% 8/25 [00:19<00:41,  2.47s/it]\n",
            " 44% 11/25 [00:28<00:36,  2.58s/it]\n",
            "100% 25/25 [01:03<00:00,  2.56s/it]\n",
            "tiled upscale: 100% 42/42 [00:03<00:00, 12.28it/s]\n",
            "tiled upscale: 100% 42/42 [00:03<00:00, 13.09it/s]\n",
            "100% 15/15 [01:37<00:00,  6.49s/it]\n",
            "\n",
            "0: 640x512 1 face, 93.2ms\n",
            "Speed: 4.4ms preprocess, 93.2ms inference, 2.0ms postprocess per image at shape (1, 3, 640, 512)\n",
            "100% 11/11 [00:14<00:00,  1.29s/it]\n",
            "\n",
            "0: 640x512 1 face, 7.2ms\n",
            "Speed: 2.7ms preprocess, 7.2ms inference, 1.2ms postprocess per image at shape (1, 3, 640, 512)\n",
            "100% 11/11 [00:14<00:00,  1.30s/it]\n",
            "100% 25/25 [01:04<00:00,  2.56s/it]\n",
            "tiled upscale: 100% 42/42 [00:03<00:00, 12.76it/s]\n",
            "tiled upscale: 100% 42/42 [00:03<00:00, 13.08it/s]\n",
            "100% 15/15 [01:37<00:00,  6.51s/it]\n",
            "\n",
            "0: 640x512 1 face, 105.2ms\n",
            "Speed: 5.3ms preprocess, 105.2ms inference, 4.9ms postprocess per image at shape (1, 3, 640, 512)\n",
            "100% 11/11 [00:14<00:00,  1.30s/it]\n",
            "\n",
            "0: 640x512 2 faces, 7.8ms\n",
            "Speed: 2.9ms preprocess, 7.8ms inference, 1.3ms postprocess per image at shape (1, 3, 640, 512)\n",
            "100% 11/11 [00:14<00:00,  1.30s/it]\n",
            "100% 11/11 [00:14<00:00,  1.29s/it]\n",
            "100% 25/25 [01:04<00:00,  2.56s/it]\n",
            "tiled upscale: 100% 42/42 [00:03<00:00, 12.73it/s]\n",
            "tiled upscale: 100% 42/42 [00:03<00:00, 13.17it/s]\n",
            "100% 15/15 [01:37<00:00,  6.50s/it]\n",
            "\n",
            "0: 640x512 1 face, 56.4ms\n",
            "Speed: 3.4ms preprocess, 56.4ms inference, 2.4ms postprocess per image at shape (1, 3, 640, 512)\n",
            "100% 11/11 [00:14<00:00,  1.29s/it]\n",
            "\n",
            "0: 640x512 2 faces, 8.4ms\n",
            "Speed: 2.9ms preprocess, 8.4ms inference, 1.3ms postprocess per image at shape (1, 3, 640, 512)\n",
            "100% 11/11 [00:14<00:00,  1.29s/it]\n",
            "100% 11/11 [00:14<00:00,  1.29s/it]\n",
            "100% 25/25 [01:06<00:00,  2.65s/it]\n",
            "tiled upscale: 100% 42/42 [00:03<00:00, 13.16it/s]\n",
            "tiled upscale: 100% 42/42 [00:03<00:00, 13.11it/s]\n",
            "100% 15/15 [01:37<00:00,  6.50s/it]\n",
            "\n",
            "0: 640x512 1 face, 56.7ms\n",
            "Speed: 3.2ms preprocess, 56.7ms inference, 2.1ms postprocess per image at shape (1, 3, 640, 512)\n",
            "100% 11/11 [00:14<00:00,  1.29s/it]\n",
            "\n",
            "0: 640x512 1 face, 10.4ms\n",
            "Speed: 4.2ms preprocess, 10.4ms inference, 1.9ms postprocess per image at shape (1, 3, 640, 512)\n",
            "100% 11/11 [00:14<00:00,  1.29s/it]\n",
            " 84% 21/25 [00:54<00:10,  2.57s/it]\n",
            "100% 25/25 [01:04<00:00,  2.58s/it]\n",
            "tiled upscale: 100% 42/42 [00:03<00:00, 13.10it/s]\n",
            "tiled upscale: 100% 42/42 [00:03<00:00, 13.08it/s]\n",
            "100% 15/15 [01:37<00:00,  6.48s/it]\n",
            "\n",
            "0: 640x512 1 face, 52.3ms\n",
            "Speed: 4.5ms preprocess, 52.3ms inference, 1.8ms postprocess per image at shape (1, 3, 640, 512)\n",
            "100% 11/11 [00:14<00:00,  1.28s/it]\n",
            "\n",
            "0: 640x512 1 face, 7.6ms\n",
            "Speed: 3.1ms preprocess, 7.6ms inference, 1.2ms postprocess per image at shape (1, 3, 640, 512)\n",
            "100% 11/11 [00:14<00:00,  1.28s/it]\n",
            "100% 25/25 [01:03<00:00,  2.53s/it]\n",
            "tiled upscale: 100% 42/42 [00:03<00:00, 12.50it/s]\n",
            "tiled upscale: 100% 42/42 [00:03<00:00, 13.16it/s]\n",
            "100% 15/15 [01:37<00:00,  6.47s/it]\n",
            "\n",
            "0: 640x512 1 face, 55.3ms\n",
            "Speed: 3.2ms preprocess, 55.3ms inference, 1.9ms postprocess per image at shape (1, 3, 640, 512)\n",
            "100% 11/11 [00:14<00:00,  1.29s/it]\n",
            "\n",
            "0: 640x512 1 face, 10.3ms\n",
            "Speed: 6.0ms preprocess, 10.3ms inference, 1.6ms postprocess per image at shape (1, 3, 640, 512)\n",
            "100% 11/11 [00:14<00:00,  1.29s/it]\n",
            "100% 25/25 [01:03<00:00,  2.55s/it]\n",
            "tiled upscale: 100% 42/42 [00:03<00:00, 12.43it/s]\n",
            "tiled upscale: 100% 42/42 [00:03<00:00, 13.10it/s]\n",
            "100% 15/15 [01:37<00:00,  6.48s/it]\n",
            "\n",
            "0: 640x512 1 face, 58.5ms\n",
            "Speed: 3.4ms preprocess, 58.5ms inference, 1.6ms postprocess per image at shape (1, 3, 640, 512)\n",
            "100% 11/11 [00:14<00:00,  1.28s/it]\n",
            "\n",
            "0: 640x512 1 face, 7.9ms\n",
            "Speed: 3.0ms preprocess, 7.9ms inference, 1.3ms postprocess per image at shape (1, 3, 640, 512)\n",
            "100% 11/11 [00:14<00:00,  1.29s/it]\n",
            "100% 25/25 [01:03<00:00,  2.55s/it]\n",
            "tiled upscale: 100% 42/42 [00:03<00:00, 13.13it/s]\n",
            "tiled upscale: 100% 42/42 [00:03<00:00, 13.26it/s]\n",
            "100% 15/15 [01:37<00:00,  6.49s/it]\n",
            "\n",
            "0: 640x512 1 face, 54.2ms\n",
            "Speed: 3.4ms preprocess, 54.2ms inference, 1.8ms postprocess per image at shape (1, 3, 640, 512)\n",
            "100% 11/11 [00:14<00:00,  1.29s/it]\n",
            "\n",
            "0: 640x512 1 face, 7.3ms\n",
            "Speed: 2.9ms preprocess, 7.3ms inference, 1.2ms postprocess per image at shape (1, 3, 640, 512)\n",
            "100% 11/11 [00:14<00:00,  1.29s/it]\n",
            "100% 25/25 [01:03<00:00,  2.55s/it]\n",
            "tiled upscale: 100% 42/42 [00:03<00:00, 13.06it/s]\n",
            "tiled upscale: 100% 42/42 [00:03<00:00, 12.86it/s]\n",
            "100% 15/15 [01:37<00:00,  6.49s/it]\n",
            "\n",
            "0: 640x512 1 face, 57.2ms\n",
            "Speed: 3.7ms preprocess, 57.2ms inference, 2.4ms postprocess per image at shape (1, 3, 640, 512)\n",
            "100% 11/11 [00:14<00:00,  1.29s/it]\n",
            "\n",
            "0: 640x512 1 face, 7.7ms\n",
            "Speed: 2.9ms preprocess, 7.7ms inference, 1.3ms postprocess per image at shape (1, 3, 640, 512)\n",
            "100% 11/11 [00:14<00:00,  1.30s/it]\n",
            "100% 25/25 [01:03<00:00,  2.55s/it]\n",
            "tiled upscale: 100% 42/42 [00:03<00:00, 12.62it/s]\n",
            "tiled upscale: 100% 42/42 [00:03<00:00, 13.20it/s]\n",
            "100% 15/15 [01:37<00:00,  6.48s/it]\n",
            "\n",
            "0: 640x512 1 face, 18.7ms\n",
            "Speed: 5.2ms preprocess, 18.7ms inference, 1.9ms postprocess per image at shape (1, 3, 640, 512)\n",
            "100% 11/11 [00:14<00:00,  1.29s/it]\n",
            "\n",
            "0: 640x512 1 face, 8.1ms\n",
            "Speed: 2.9ms preprocess, 8.1ms inference, 1.3ms postprocess per image at shape (1, 3, 640, 512)\n",
            "100% 11/11 [00:14<00:00,  1.29s/it]\n",
            "100% 25/25 [01:03<00:00,  2.55s/it]\n",
            "tiled upscale: 100% 42/42 [00:03<00:00, 13.04it/s]\n",
            "tiled upscale: 100% 42/42 [00:03<00:00, 12.65it/s]\n",
            "100% 15/15 [01:37<00:00,  6.48s/it]\n",
            "\n",
            "0: 640x512 1 face, 56.8ms\n",
            "Speed: 3.6ms preprocess, 56.8ms inference, 1.5ms postprocess per image at shape (1, 3, 640, 512)\n",
            "100% 11/11 [00:14<00:00,  1.29s/it]\n",
            "\n",
            "0: 640x512 1 face, 8.0ms\n",
            "Speed: 3.1ms preprocess, 8.0ms inference, 1.3ms postprocess per image at shape (1, 3, 640, 512)\n",
            "100% 11/11 [00:14<00:00,  1.29s/it]\n",
            "100% 25/25 [00:33<00:00,  1.35s/it]\n",
            "tiled upscale: 100% 42/42 [00:03<00:00, 12.68it/s]\n",
            "100% 15/15 [00:48<00:00,  3.26s/it]\n",
            "\n",
            "0: 640x512 1 face, 57.8ms\n",
            "Speed: 3.7ms preprocess, 57.8ms inference, 1.5ms postprocess per image at shape (1, 3, 640, 512)\n",
            "100% 11/11 [00:14<00:00,  1.29s/it]\n",
            "100% 25/25 [00:33<00:00,  1.35s/it]\n",
            "tiled upscale: 100% 42/42 [00:03<00:00, 12.19it/s]\n",
            "100% 15/15 [00:48<00:00,  3.25s/it]\n",
            "\n",
            "0: 640x512 1 face, 56.0ms\n",
            "Speed: 3.4ms preprocess, 56.0ms inference, 1.9ms postprocess per image at shape (1, 3, 640, 512)\n",
            "100% 11/11 [00:14<00:00,  1.29s/it]\n",
            " 80% 20/25 [01:35<00:23,  4.77s/it]\n",
            "100% 25/25 [01:03<00:00,  2.54s/it]\n",
            "tiled upscale: 100% 42/42 [00:03<00:00, 13.02it/s]\n",
            "tiled upscale: 100% 42/42 [00:03<00:00, 13.03it/s]\n",
            "100% 15/15 [01:37<00:00,  6.51s/it]\n",
            "\n",
            "0: 640x512 1 face, 56.5ms\n",
            "Speed: 3.2ms preprocess, 56.5ms inference, 2.5ms postprocess per image at shape (1, 3, 640, 512)\n",
            "100% 11/11 [00:14<00:00,  1.29s/it]\n",
            "\n",
            "0: 640x512 1 face, 7.6ms\n",
            "Speed: 3.0ms preprocess, 7.6ms inference, 1.3ms postprocess per image at shape (1, 3, 640, 512)\n",
            "100% 11/11 [00:14<00:00,  1.29s/it]\n",
            "100% 25/25 [01:03<00:00,  2.56s/it]\n",
            "tiled upscale: 100% 42/42 [00:03<00:00, 13.00it/s]\n",
            "tiled upscale: 100% 42/42 [00:03<00:00, 13.20it/s]\n",
            "100% 15/15 [01:37<00:00,  6.50s/it]\n",
            "\n",
            "0: 640x512 1 face, 51.9ms\n",
            "Speed: 3.3ms preprocess, 51.9ms inference, 1.8ms postprocess per image at shape (1, 3, 640, 512)\n",
            "100% 11/11 [00:14<00:00,  1.29s/it]\n",
            "\n",
            "0: 640x512 1 face, 7.5ms\n",
            "Speed: 2.8ms preprocess, 7.5ms inference, 1.2ms postprocess per image at shape (1, 3, 640, 512)\n",
            "100% 11/11 [00:14<00:00,  1.29s/it]\n",
            "100% 25/25 [00:34<00:00,  1.38s/it]\n",
            "tiled upscale: 100% 42/42 [00:03<00:00, 13.09it/s]\n",
            "100% 15/15 [00:48<00:00,  3.24s/it]\n",
            "\n",
            "0: 640x512 1 face, 56.7ms\n",
            "Speed: 3.8ms preprocess, 56.7ms inference, 2.6ms postprocess per image at shape (1, 3, 640, 512)\n",
            "100% 11/11 [00:14<00:00,  1.31s/it]\n",
            "100% 25/25 [01:03<00:00,  2.55s/it]\n",
            "tiled upscale: 100% 42/42 [00:03<00:00, 13.16it/s]\n",
            "tiled upscale: 100% 42/42 [00:03<00:00, 12.35it/s]\n",
            "100% 15/15 [01:37<00:00,  6.50s/it]\n",
            "\n",
            "0: 640x512 1 face, 80.0ms\n",
            "Speed: 3.9ms preprocess, 80.0ms inference, 3.4ms postprocess per image at shape (1, 3, 640, 512)\n",
            "100% 11/11 [00:14<00:00,  1.29s/it]\n",
            "\n",
            "0: 640x512 1 face, 7.7ms\n",
            "Speed: 3.0ms preprocess, 7.7ms inference, 1.3ms postprocess per image at shape (1, 3, 640, 512)\n",
            "100% 11/11 [00:14<00:00,  1.29s/it]\n",
            "100% 25/25 [01:04<00:00,  2.57s/it]\n",
            "tiled upscale: 100% 42/42 [00:03<00:00, 13.03it/s]\n",
            "tiled upscale: 100% 42/42 [00:03<00:00, 12.98it/s]\n",
            "100% 15/15 [01:37<00:00,  6.50s/it]\n",
            "100% 25/25 [01:03<00:00,  2.54s/it]\n",
            "tiled upscale: 100% 42/42 [00:03<00:00, 12.60it/s]\n",
            "tiled upscale: 100% 42/42 [00:03<00:00, 13.02it/s]\n",
            "100% 15/15 [01:37<00:00,  6.50s/it]\n",
            "\n",
            "0: 640x512 1 face, 59.5ms\n",
            "Speed: 4.0ms preprocess, 59.5ms inference, 2.3ms postprocess per image at shape (1, 3, 640, 512)\n",
            "100% 11/11 [00:14<00:00,  1.28s/it]\n",
            "\n",
            "0: 640x512 1 face, 8.2ms\n",
            "Speed: 5.5ms preprocess, 8.2ms inference, 1.4ms postprocess per image at shape (1, 3, 640, 512)\n",
            "100% 11/11 [00:14<00:00,  1.29s/it]\n",
            " 24% 6/25 [00:14<00:46,  2.45s/it]\n",
            " 32% 8/25 [00:20<00:43,  2.57s/it]\n",
            "100% 25/25 [01:03<00:00,  2.53s/it]\n",
            "tiled upscale: 100% 42/42 [00:03<00:00, 12.96it/s]\n",
            "tiled upscale: 100% 42/42 [00:03<00:00, 12.50it/s]\n",
            "100% 15/15 [01:37<00:00,  6.48s/it]\n",
            "\n",
            "0: 640x512 1 face, 55.5ms\n",
            "Speed: 3.4ms preprocess, 55.5ms inference, 2.1ms postprocess per image at shape (1, 3, 640, 512)\n",
            "100% 11/11 [00:14<00:00,  1.29s/it]\n",
            "\n",
            "0: 640x512 1 face, 7.4ms\n",
            "Speed: 2.8ms preprocess, 7.4ms inference, 1.3ms postprocess per image at shape (1, 3, 640, 512)\n",
            "100% 11/11 [00:14<00:00,  1.29s/it]\n",
            " 64% 16/25 [00:41<00:23,  2.60s/it]\n",
            " 64% 16/25 [00:39<00:22,  2.45s/it]\n",
            "100% 25/25 [01:03<00:00,  2.55s/it]\n",
            "tiled upscale: 100% 42/42 [00:03<00:00, 13.05it/s]\n",
            "tiled upscale: 100% 42/42 [00:03<00:00, 13.07it/s]\n",
            "100% 15/15 [01:37<00:00,  6.50s/it]\n",
            "\n",
            "0: 640x512 1 face, 59.6ms\n",
            "Speed: 3.9ms preprocess, 59.6ms inference, 2.5ms postprocess per image at shape (1, 3, 640, 512)\n",
            "100% 11/11 [00:14<00:00,  1.29s/it]\n",
            "\n",
            "0: 640x512 1 face, 7.5ms\n",
            "Speed: 2.9ms preprocess, 7.5ms inference, 1.2ms postprocess per image at shape (1, 3, 640, 512)\n",
            "100% 11/11 [00:14<00:00,  1.30s/it]\n",
            "100% 25/25 [01:03<00:00,  2.56s/it]\n",
            "tiled upscale: 100% 42/42 [00:03<00:00, 12.56it/s]\n",
            "tiled upscale: 100% 42/42 [00:03<00:00, 12.92it/s]\n",
            "100% 15/15 [01:37<00:00,  6.49s/it]\n",
            "\n",
            "0: 640x512 1 face, 86.5ms\n",
            "Speed: 10.5ms preprocess, 86.5ms inference, 1.8ms postprocess per image at shape (1, 3, 640, 512)\n",
            "100% 11/11 [00:14<00:00,  1.29s/it]\n",
            "\n",
            "0: 640x512 1 face, 7.8ms\n",
            "Speed: 2.8ms preprocess, 7.8ms inference, 1.2ms postprocess per image at shape (1, 3, 640, 512)\n",
            "100% 11/11 [00:14<00:00,  1.29s/it]\n",
            "100% 25/25 [01:59<00:00,  4.77s/it]\n",
            "tiled upscale: 100% 42/42 [00:03<00:00, 12.33it/s]\n",
            "tiled upscale: 100% 42/42 [00:03<00:00, 12.89it/s]\n",
            "tiled upscale: 100% 42/42 [00:03<00:00, 12.92it/s]\n",
            "tiled upscale: 100% 42/42 [00:03<00:00, 12.18it/s]\n",
            "100% 15/15 [03:13<00:00, 12.91s/it]\n",
            "\n",
            "0: 640x512 1 face, 12.5ms\n",
            "Speed: 4.4ms preprocess, 12.5ms inference, 5.0ms postprocess per image at shape (1, 3, 640, 512)\n",
            "100% 11/11 [00:14<00:00,  1.28s/it]\n",
            "\n",
            "0: 640x512 1 face, 20.7ms\n",
            "Speed: 7.8ms preprocess, 20.7ms inference, 1.3ms postprocess per image at shape (1, 3, 640, 512)\n",
            "100% 11/11 [00:14<00:00,  1.29s/it]\n",
            "\n",
            "0: 640x512 1 face, 12.6ms\n",
            "Speed: 3.6ms preprocess, 12.6ms inference, 1.7ms postprocess per image at shape (1, 3, 640, 512)\n",
            "100% 11/11 [00:14<00:00,  1.29s/it]\n",
            "\n",
            "0: 640x512 1 face, 7.7ms\n",
            "Speed: 3.1ms preprocess, 7.7ms inference, 1.3ms postprocess per image at shape (1, 3, 640, 512)\n",
            "100% 11/11 [00:14<00:00,  1.30s/it]\n",
            "100% 25/25 [01:59<00:00,  4.77s/it]\n",
            "tiled upscale: 100% 42/42 [00:03<00:00, 12.93it/s]\n",
            "tiled upscale: 100% 42/42 [00:03<00:00, 12.98it/s]\n",
            "tiled upscale: 100% 42/42 [00:03<00:00, 12.25it/s]\n",
            "tiled upscale: 100% 42/42 [00:03<00:00, 12.99it/s]\n",
            "100% 15/15 [03:15<00:00, 13.03s/it]\n",
            "\n",
            "0: 640x512 1 face, 55.1ms\n",
            "Speed: 3.4ms preprocess, 55.1ms inference, 2.4ms postprocess per image at shape (1, 3, 640, 512)\n",
            "100% 11/11 [00:14<00:00,  1.28s/it]\n",
            "\n",
            "0: 640x512 1 face, 9.5ms\n",
            "Speed: 2.9ms preprocess, 9.5ms inference, 1.3ms postprocess per image at shape (1, 3, 640, 512)\n",
            "100% 11/11 [00:14<00:00,  1.28s/it]\n",
            "\n",
            "0: 640x512 1 face, 13.5ms\n",
            "Speed: 3.3ms preprocess, 13.5ms inference, 1.8ms postprocess per image at shape (1, 3, 640, 512)\n",
            "100% 11/11 [00:14<00:00,  1.29s/it]\n",
            "\n",
            "0: 640x512 1 face, 13.8ms\n",
            "Speed: 3.7ms preprocess, 13.8ms inference, 1.9ms postprocess per image at shape (1, 3, 640, 512)\n",
            "100% 11/11 [00:14<00:00,  1.29s/it]\n",
            " 48% 12/25 [00:57<01:02,  4.81s/it]\n",
            "100% 25/25 [01:58<00:00,  4.73s/it]\n",
            "tiled upscale: 100% 42/42 [00:03<00:00, 12.60it/s]\n",
            "tiled upscale: 100% 42/42 [00:03<00:00, 13.04it/s]\n",
            "tiled upscale: 100% 42/42 [00:03<00:00, 13.02it/s]\n",
            "tiled upscale: 100% 42/42 [00:03<00:00, 12.42it/s]\n",
            "100% 15/15 [03:13<00:00, 12.91s/it]\n",
            "\n",
            "0: 640x512 1 face, 89.0ms\n",
            "Speed: 4.4ms preprocess, 89.0ms inference, 1.8ms postprocess per image at shape (1, 3, 640, 512)\n",
            "100% 11/11 [00:14<00:00,  1.28s/it]\n",
            "\n",
            "0: 640x512 1 face, 7.5ms\n",
            "Speed: 2.8ms preprocess, 7.5ms inference, 1.3ms postprocess per image at shape (1, 3, 640, 512)\n",
            "100% 11/11 [00:14<00:00,  1.29s/it]\n",
            "\n",
            "0: 640x512 1 face, 12.3ms\n",
            "Speed: 3.3ms preprocess, 12.3ms inference, 2.0ms postprocess per image at shape (1, 3, 640, 512)\n",
            "100% 11/11 [00:14<00:00,  1.29s/it]\n",
            "\n",
            "0: 640x512 1 face, 7.9ms\n",
            "Speed: 2.8ms preprocess, 7.9ms inference, 1.3ms postprocess per image at shape (1, 3, 640, 512)\n",
            "100% 11/11 [00:14<00:00,  1.30s/it]\n",
            "100% 25/25 [02:00<00:00,  4.84s/it]\n",
            "tiled upscale: 100% 42/42 [00:03<00:00, 12.43it/s]\n",
            "tiled upscale: 100% 42/42 [00:03<00:00, 12.75it/s]\n",
            "tiled upscale: 100% 42/42 [00:03<00:00, 13.02it/s]\n",
            "tiled upscale: 100% 42/42 [00:03<00:00, 12.67it/s]\n",
            "100% 15/15 [03:13<00:00, 12.92s/it]\n",
            "\n",
            "0: 640x512 1 face, 108.9ms\n",
            "Speed: 4.8ms preprocess, 108.9ms inference, 2.2ms postprocess per image at shape (1, 3, 640, 512)\n",
            "100% 11/11 [00:14<00:00,  1.29s/it]\n",
            "\n",
            "0: 640x512 1 face, 7.9ms\n",
            "Speed: 3.0ms preprocess, 7.9ms inference, 1.2ms postprocess per image at shape (1, 3, 640, 512)\n",
            "100% 11/11 [00:14<00:00,  1.29s/it]\n",
            "\n",
            "0: 640x512 1 face, 15.6ms\n",
            "Speed: 3.2ms preprocess, 15.6ms inference, 1.7ms postprocess per image at shape (1, 3, 640, 512)\n",
            "100% 11/11 [00:14<00:00,  1.29s/it]\n",
            "\n",
            "0: 640x512 1 face, 10.3ms\n",
            "Speed: 3.4ms preprocess, 10.3ms inference, 1.5ms postprocess per image at shape (1, 3, 640, 512)\n",
            "100% 11/11 [00:14<00:00,  1.29s/it]\n",
            "100% 25/25 [00:34<00:00,  1.36s/it]\n",
            "tiled upscale: 100% 42/42 [00:03<00:00, 12.91it/s]\n",
            "100% 15/15 [00:48<00:00,  3.24s/it]\n",
            "\n",
            "0: 640x512 1 face, 108.9ms\n",
            "Speed: 4.3ms preprocess, 108.9ms inference, 1.8ms postprocess per image at shape (1, 3, 640, 512)\n",
            "100% 11/11 [00:14<00:00,  1.30s/it]\n",
            "100% 25/25 [00:34<00:00,  1.36s/it]\n",
            "tiled upscale: 100% 42/42 [00:03<00:00, 12.77it/s]\n",
            "100% 15/15 [00:48<00:00,  3.24s/it]\n",
            "\n",
            "0: 640x512 1 face, 80.9ms\n",
            "Speed: 5.1ms preprocess, 80.9ms inference, 2.0ms postprocess per image at shape (1, 3, 640, 512)\n",
            "100% 11/11 [00:14<00:00,  1.29s/it]\n",
            "100% 25/25 [01:59<00:00,  4.77s/it]\n",
            "tiled upscale: 100% 42/42 [00:03<00:00, 12.02it/s]\n",
            "tiled upscale: 100% 42/42 [00:03<00:00, 12.91it/s]\n",
            "tiled upscale: 100% 42/42 [00:03<00:00, 12.95it/s]\n",
            "tiled upscale: 100% 42/42 [00:03<00:00, 12.24it/s]\n",
            "100% 15/15 [03:13<00:00, 12.90s/it]\n",
            "\n",
            "0: 640x512 1 face, 106.0ms\n",
            "Speed: 4.8ms preprocess, 106.0ms inference, 1.8ms postprocess per image at shape (1, 3, 640, 512)\n",
            "100% 11/11 [00:14<00:00,  1.28s/it]\n",
            "\n",
            "0: 640x512 1 face, 7.6ms\n",
            "Speed: 3.1ms preprocess, 7.6ms inference, 1.3ms postprocess per image at shape (1, 3, 640, 512)\n",
            "100% 11/11 [00:14<00:00,  1.28s/it]\n",
            "\n",
            "0: 640x512 1 face, 12.4ms\n",
            "Speed: 3.8ms preprocess, 12.4ms inference, 1.8ms postprocess per image at shape (1, 3, 640, 512)\n",
            "100% 11/11 [00:14<00:00,  1.29s/it]\n",
            "\n",
            "0: 640x512 1 face, 8.4ms\n",
            "Speed: 3.4ms preprocess, 8.4ms inference, 1.3ms postprocess per image at shape (1, 3, 640, 512)\n",
            "100% 11/11 [00:14<00:00,  1.29s/it]\n",
            "100% 25/25 [00:35<00:00,  1.41s/it]\n",
            "tiled upscale: 100% 42/42 [00:03<00:00, 12.89it/s]\n",
            " 40% 6/15 [00:19<00:28,  3.17s/it]\n"
          ]
        }
      ]
    }
  ]
}